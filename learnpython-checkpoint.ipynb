{
 "cells": [
  {
   "cell_type": "code",
   "execution_count": 2,
   "id": "71139a32-e399-493b-a948-e5f8f48b3c2a",
   "metadata": {},
   "outputs": [],
   "source": [
    "#Everything is object in python\n",
    "\n",
    "#object: identity, type, value\n",
    "\n",
    "#mutable: that is changeable\n",
    "#immutable: that is not changeable"
   ]
  },
  {
   "cell_type": "code",
   "execution_count": null,
   "id": "8c2e0b00-04e0-443f-9051-c0091f4ec2fc",
   "metadata": {},
   "outputs": [],
   "source": [
    "#data types\n",
    "\n",
    "sugar_amount = 2\n",
    "print(f\"initial sugar: {sugar_amount}\")\n",
    "sugar_amount = 12\n",
    "print(f\"second initial sugar: {sugar_amount}\")\n",
    "\n",
    "#yes value is changing, but under the hood the number itself is immutable, py created a new number. Instead of pointing to 2 it's then pointed to 12 \n",
    "#i.e you're changing the reference not the value, always check the identity not the value (i cannot change the number's existence in the memory)\n",
    "\n",
    "print(f\"ID of 2: {id(2)}\")\n",
    "print(f\"ID of 12: {id(12)}\")"
   ]
  },
  {
   "cell_type": "code",
   "execution_count": 10,
   "id": "a9e6ce2c-e990-4039-a34e-3895f0db77d5",
   "metadata": {},
   "outputs": [
    {
     "name": "stdout",
     "output_type": "stream",
     "text": [
      "Initial spice mix id:2994458128480\n",
      "after adding spice to spice mix id:2994458128480\n"
     ]
    }
   ],
   "source": [
    "spice_mix = set()\n",
    "print(f\"Initial spice mix id:{id(spice_mix)}\")\n",
    "spice_mix.add(\"Ginger\")\n",
    "spice_mix.add(\"Cardamom\")\n",
    "print(f\"after adding spice to spice mix id:{id(spice_mix)}\")\n",
    "\n",
    "# i'm able to mutate yet the id remain's the same, set are mutable and can be changed in the memory"
   ]
  },
  {
   "cell_type": "code",
   "execution_count": 18,
   "id": "78354500-610f-46df-b199-f9d83c320b42",
   "metadata": {},
   "outputs": [
    {
     "name": "stdout",
     "output_type": "stream",
     "text": [
      "Total grams of base tea is 17\n",
      "Total grams of remaining tea is 11\n",
      "Milk per serving is: 1.75\n",
      "While tea bags per pot: 1\n",
      "Leftover cadamom pods: 1\n",
      "Scaled flavor strength: 8\n"
     ]
    }
   ],
   "source": [
    "#numbers: integers, booleans, float(decimal), complex number\n",
    "\n",
    "#integer\n",
    "\n",
    "black_tea_grams = 14\n",
    "ginger_grams = 3\n",
    "\n",
    "total_grams = black_tea_grams + ginger_grams\n",
    "print(f\"Total grams of base tea is {total_grams}\")\n",
    "\n",
    "remaining_tea = black_tea_grams - ginger_grams\n",
    "print(f\"Total grams of remaining tea is {remaining_tea}\")\n",
    "\n",
    "milk_liters = 7\n",
    "servings = 4\n",
    "milk_per_serving = milk_liters / servings\n",
    "print(f\"Milk per serving is: {milk_per_serving}\")\n",
    "\n",
    "total_tea_bags = 7\n",
    "pots = 4\n",
    "bags_per_pot = total_tea_bags // pots\n",
    "print(f\"While tea bags per pot: {bags_per_pot}\")\n",
    "\n",
    "total_cadamom_pods = 10\n",
    "pods_per_cup = 3\n",
    "leftover_pods = total_cadamom_pods % pods_per_cup\n",
    "print(f\"Leftover cadamom pods: {leftover_pods}\")\n",
    "\n",
    "base_flavor_strength = 2\n",
    "scale_factor = 3\n",
    "powerful_flavor = base_flavor_strength ** scale_factor\n",
    "print(f\"Scaled flavor strength: {powerful_flavor}\")"
   ]
  },
  {
   "cell_type": "code",
   "execution_count": 19,
   "id": "33111e55-2c7b-45b9-bd93-adf7ce79736a",
   "metadata": {},
   "outputs": [
    {
     "name": "stdout",
     "output_type": "stream",
     "text": [
      "Total actions: 6\n",
      "Is there milk? False\n"
     ]
    }
   ],
   "source": [
    "#boolean\n",
    "\n",
    "is_boiling = True\n",
    "stir_count = 5\n",
    "total_actions = stir_count + is_boiling #upcasting\n",
    "print(f\"Total actions: {total_actions}\")\n",
    "\n",
    "milk_present = 0 # no milk\n",
    "print(f\"Is there milk? {bool(milk_present)}\")\n",
    "\n",
    "#logical-operator: and,or,not\n"
   ]
  },
  {
   "cell_type": "code",
   "execution_count": 25,
   "id": "b9ac9cdb-3593-4c4f-b08a-1c224b4baac7",
   "metadata": {},
   "outputs": [
    {
     "name": "stdout",
     "output_type": "stream",
     "text": [
      "Order for Priya: Ginger chai please\n",
      "first word: a & last: d d\n"
     ]
    }
   ],
   "source": [
    "#strings\n",
    "\n",
    "#strings are immutable\n",
    "\n",
    "chai_type = \"Ginger chai\"\n",
    "customer_name = \"Priya\"\n",
    "\n",
    "print(f\"Order for {customer_name}: {chai_type} please\")\n",
    "\n",
    "chai_description = \"aromatic and bold\"\n",
    "print(f\"first word: {chai_description[0]} & last: {chai_description[len(chai_description)-1]} {chai_description[-1]}\")"
   ]
  },
  {
   "cell_type": "code",
   "execution_count": 2,
   "id": "e6509683-8e3d-4ffe-8792-135a164e8f83",
   "metadata": {},
   "outputs": [
    {
     "name": "stdout",
     "output_type": "stream",
     "text": [
      "Destructured or unpacked: cardamom, cloves & cinnamon\n",
      "normal: ('cardamom', 'cloves', 'cinnamon')\n",
      "Is ginger in masala spices ? False\n"
     ]
    }
   ],
   "source": [
    "#tuples \n",
    "#even tuples are immutable\n",
    "\n",
    "masala_spices = (\"cardamom\",\"cloves\",\"cinnamon\")\n",
    "(spice1, spice2, spice3) = masala_spices\n",
    "print(f\"Destructured or unpacked: {spice1}, {spice2} & {spice3}\")\n",
    "print(f\"normal: {masala_spices}\")\n",
    "\n",
    "#membership\n",
    "\n",
    "print(f\"Is ginger in masala spices ? {\"ginger\" in masala_spices}\")"
   ]
  },
  {
   "cell_type": "code",
   "execution_count": 15,
   "id": "664cd9d4-79a9-4124-b771-67e53e80816f",
   "metadata": {},
   "outputs": [
    {
     "name": "stdout",
     "output_type": "stream",
     "text": [
      "ingredients: ['water', 'milk', 'black tea']\n",
      "ingredients after appending sugar: ['water', 'milk', 'black tea', 'sugar']\n",
      "ingredients after removing water: ['milk', 'black tea', 'sugar']\n",
      "chai after being extended: ['water', 'milk', 'ginger', 'cardamom']\n",
      "chai after inserting black tea: ['water', 'milk', 'black tea', 'ginger', 'cardamom']\n",
      "chai after pop(): ['water', 'milk', 'black tea', 'ginger']\n",
      "chai after reverse: ['ginger', 'black tea', 'milk', 'water']\n",
      "chai after sort: ['black tea', 'ginger', 'milk', 'water']\n"
     ]
    }
   ],
   "source": [
    "#list in python\n",
    "#mutable\n",
    "\n",
    "ingredients = ['water','milk','black tea']\n",
    "print(f\"ingredients: {ingredients}\")\n",
    "ingredients.append('sugar')\n",
    "print(f\"ingredients after appending sugar: {ingredients}\")\n",
    "ingredients.remove('water')\n",
    "print(f\"ingredients after removing water: {ingredients}\")\n",
    "\n",
    "spice_options = [\"ginger\",\"cardamom\"]\n",
    "chai_ingredients = [\"water\",\"milk\"]\n",
    "chai_ingredients.extend(spice_options)\n",
    "print(f\"chai after being extended: {chai_ingredients}\")\n",
    "chai_ingredients.insert(2,\"black tea\")\n",
    "print(f\"chai after inserting black tea: {chai_ingredients}\")\n",
    "chai_ingredients.pop()\n",
    "print(f\"chai after pop(): {chai_ingredients}\")\n",
    "chai_ingredients.reverse()\n",
    "print(f\"chai after reverse: {chai_ingredients}\")\n",
    "chai_ingredients.sort()\n",
    "print(f\"chai after sort: {chai_ingredients}\")"
   ]
  },
  {
   "cell_type": "code",
   "execution_count": 21,
   "id": "f1e011d8-e9ca-4cff-977c-175f93b0e907",
   "metadata": {},
   "outputs": [
    {
     "name": "stdout",
     "output_type": "stream",
     "text": [
      "all spices: {'cardamom', 'ginger', 'cinamon', 'cloves', 'black pepper'}\n",
      "common spices: {'ginger'}\n",
      "only_in_essential spices: {'cardamom', 'cinamon'}\n"
     ]
    }
   ],
   "source": [
    "#sets\n",
    "#things are unique\n",
    "\n",
    "#union:- from a and b\n",
    "#intersection: include things that aren't in b\n",
    "\n",
    "essential_spices = {\"cardamom\",\"ginger\",\"cinamon\"}\n",
    "optional_spices = {\"cloves\",\"ginger\",\"black pepper\"}\n",
    "\n",
    "all_spices = essential_spices | optional_spices\n",
    "print(f\"all spices: {all_spices}\")\n",
    "common_spices = essential_spices & optional_spices\n",
    "print(f\"common spices: {common_spices}\")\n",
    "only_in_essential = essential_spices - optional_spices\n",
    "print(f\"only_in_essential spices: {only_in_essential}\")"
   ]
  },
  {
   "cell_type": "code",
   "execution_count": 3,
   "id": "01f3759e-f57b-420c-b715-2ec3217eb1c5",
   "metadata": {},
   "outputs": [
    {
     "name": "stdout",
     "output_type": "stream",
     "text": [
      "chai recipe: {'base': 'black tea', 'liquid': 'milk'}\n",
      "chai recipe: {'base': 'black tea'}\n",
      "Order details (keys): dict_keys(['type', 'sugar'])\n",
      "Order details (values): dict_values(['Masala chai', 2])\n",
      "Order details (items): dict_items([('type', 'Masala chai'), ('sugar', 2)])\n",
      "Removed last item: ('sugar', 2)\n",
      "customer chai size: no size\n"
     ]
    }
   ],
   "source": [
    "#dictionary in python\n",
    "\n",
    "# chai_order = dict(type=\"Masala chai\", size=\"large\", sugar=2)\n",
    "# print(f\"chai order of rohith {chai_order}\")\n",
    "\n",
    "chai_recipe = {}\n",
    "chai_recipe[\"base\"] = \"black tea\"\n",
    "chai_recipe[\"liquid\"] = \"milk\"\n",
    "print(f\"chai recipe: {chai_recipe}\")\n",
    "del chai_recipe[\"liquid\"]\n",
    "print(f\"chai recipe: {chai_recipe}\")\n",
    "chai_order = {\n",
    "    \"type\":\"Masala chai\", \n",
    "    \"size\":\"large\", \n",
    "    \"sugar\":2\n",
    "}\n",
    "\n",
    "print(f\"Order details (keys): {chai_order.keys()}\")\n",
    "print(f\"Order details (values): {chai_order.values()}\")\n",
    "print(f\"Order details (items): {chai_order.items()}\")\n",
    "last_item = chai_order.popitem()\n",
    "print(f\"Removed last item: {last_item}\")\n",
    "chai_size = chai_order.get(\"size\",\"no size\")\n",
    "print(f\"customer chai size: {chai_size}\")"
   ]
  },
  {
   "cell_type": "code",
   "execution_count": 10,
   "id": "11edda0a-0c47-4383-b151-ec73f07476f8",
   "metadata": {},
   "outputs": [
    {
     "name": "stdout",
     "output_type": "stream",
     "text": [
      "2025-09-01T16:00:18.239290+00:00\n",
      "chai: <class '__main__.chai_profile'>\n"
     ]
    }
   ],
   "source": [
    "# advance datatypes : collections, date, time, calander\n",
    "\n",
    "import arrow\n",
    "\n",
    "brewing_time = arrow.utcnow()\n",
    "brewing_time.to(\"Europe/Rome\")\n",
    "print(f\"{brewing_time}\")\n",
    "\n",
    "from collections import namedtuple\n",
    "\n",
    "chai_profiles = namedtuple(\"chai_profile\",[\"falvor\",\"aroma\"])\n",
    "print(f\"chai: {chai_profiles}\")"
   ]
  },
  {
   "cell_type": "code",
   "execution_count": 16,
   "id": "e81065ed-e5a2-42d4-bd5c-e31c1683b0f5",
   "metadata": {},
   "outputs": [
    {
     "name": "stdout",
     "output_type": "stream",
     "text": [
      "Kettle done, Time to make chai\n"
     ]
    },
    {
     "name": "stdin",
     "output_type": "stream",
     "text": [
      "Enter a snack: 1.Cookie or 2. Samosa vadapav\n"
     ]
    },
    {
     "name": "stdout",
     "output_type": "stream",
     "text": [
      "choose between cookie or samosa\n"
     ]
    }
   ],
   "source": [
    "#conditionals\n",
    "\n",
    "kettle_boiled = True\n",
    "\n",
    "if kettle_boiled:\n",
    "    print(\"Kettle done, Time to make chai\")\n",
    "\n",
    "ip = input(\"Enter a snack: 1.Cookie or 2. Samosa\")\n",
    "\n",
    "if ip.lower() == \"cookie\" :\n",
    "    print(f'cookie order placed')\n",
    "elif ip.lower()== \"samosa\":\n",
    "    print(f'samosa order placed')\n",
    "else:\n",
    "    print(f'choose between cookie or samosa')"
   ]
  },
  {
   "cell_type": "code",
   "execution_count": 17,
   "id": "cf08faac-affe-49c7-b5ac-f0b1b841556e",
   "metadata": {},
   "outputs": [
    {
     "name": "stdin",
     "output_type": "stream",
     "text": [
      "Enter your choice:\n",
      "1.Small\n",
      "2.Medium\n",
      "3.Large\n",
      " small\n"
     ]
    },
    {
     "name": "stdout",
     "output_type": "stream",
     "text": [
      "Rs.10 for small\n"
     ]
    }
   ],
   "source": [
    "choices = [\"small\",\"medium\",\"large\"]\n",
    "\n",
    "choice = input(\"Enter your choice:\\n1.Small\\n2.Medium\\n3.Large\\n\").lower()\n",
    "if choice in choices:\n",
    "    if choice == \"small\":\n",
    "        print(\"Rs.10 for small\")\n",
    "    elif choice == \"medium\":\n",
    "        print(\"Rs.15 for medium\")\n",
    "    else:\n",
    "        print(\"Rs.20 for large\")\n",
    "else:\n",
    "    print(\"Unknown cup size\")"
   ]
  },
  {
   "cell_type": "code",
   "execution_count": 25,
   "id": "406abce5-2f00-4698-8972-14729cf2feb0",
   "metadata": {},
   "outputs": [
    {
     "name": "stdin",
     "output_type": "stream",
     "text": [
      "Enter your choice(number):\n",
      "1.Small\n",
      "2.Medium\n",
      "3.Large\n",
      " 1\n"
     ]
    },
    {
     "name": "stdout",
     "output_type": "stream",
     "text": [
      "price for small : 10\n"
     ]
    }
   ],
   "source": [
    "choices = {\n",
    "    1:\"small\",\n",
    "    2:\"medium\",\n",
    "    3:\"large\"\n",
    "}\n",
    "\n",
    "prices = {\n",
    "    \"small\":10,\n",
    "    \"medium\":15,\n",
    "    \"large\":20\n",
    "}\n",
    "\n",
    "choice = int(input(\"Enter your choice(number):\\n1.Small\\n2.Medium\\n3.Large\\n\"))\n",
    "\n",
    "if choice in choices:\n",
    "    print(f\"price for {choices[choice]} : {prices[choices[choice]]}\")"
   ]
  },
  {
   "cell_type": "code",
   "execution_count": 29,
   "id": "aed79ee7-63c4-42ea-b194-13103097b36f",
   "metadata": {},
   "outputs": [
    {
     "name": "stdout",
     "output_type": "stream",
     "text": [
      "temp normal\n"
     ]
    }
   ],
   "source": [
    "device_status = \"active\"\n",
    "temp = 26\n",
    "if device_status == \"active\":\n",
    "    if temp > 35 :\n",
    "        print(\"High temp alert!\")\n",
    "    else:\n",
    "        print(\"temp normal\")\n",
    "else:\n",
    "    print(\"device is offline\")"
   ]
  },
  {
   "cell_type": "code",
   "execution_count": 3,
   "id": "0e3d1456-bb89-4aeb-8811-8f2bb1ae841d",
   "metadata": {},
   "outputs": [
    {
     "name": "stdin",
     "output_type": "stream",
     "text": [
      "Enter order-amount:  220\n"
     ]
    },
    {
     "name": "stdout",
     "output_type": "stream",
     "text": [
      "rs.30[Handling charges]\n",
      "Total:250\n"
     ]
    }
   ],
   "source": [
    "order_amount = int(input(\"Enter order-amount: \"))\n",
    "\n",
    "print(\"free delivery\" if order_amount >300 else f\"rs.30[Handling charges]\\nTotal:{order_amount+30}\")"
   ]
  },
  {
   "cell_type": "code",
   "execution_count": 21,
   "id": "de43de15-161a-4484-b6e6-0c7319da808d",
   "metadata": {},
   "outputs": [
    {
     "name": "stdout",
     "output_type": "stream",
     "text": [
      "Serving chai to token: 1\n",
      "Serving chai to token: 2\n",
      "Serving chai to token: 3\n",
      "Serving chai to token: 4\n",
      "Serving chai to token: 5\n",
      "Serving chai to token: 6\n",
      "Serving chai to token: 7\n",
      "Serving chai to token: 8\n",
      "Serving chai to token: 9\n",
      "Preparing chai for batch #1\n",
      "Preparing chai for batch #2\n",
      "Preparing chai for batch #3\n",
      "Preparing chai for batch #4\n",
      "Order for sujay\n",
      "Order for sahana\n",
      "Order for divya\n",
      "Order for ronika\n",
      "Menu item is: 1. green\n",
      "Menu item is: 2. lemon\n",
      "Menu item is: 3. spiced\n",
      "Menu item is: 4. mint\n",
      "sujay paid 200\n",
      "sahana paid 301\n",
      "divya paid 242\n",
      "ronika paid 120\n",
      "temp: 40\n",
      "temp: 55\n",
      "temp: 70\n",
      "temp: 85\n",
      "lemon\n",
      "spiced\n",
      "mint\n"
     ]
    }
   ],
   "source": [
    "#loops\n",
    "\n",
    "for i in range(1,10):\n",
    "    print(f\"Serving chai to token: {i}\")\n",
    "\n",
    "for i in range(1,5):\n",
    "    print(f\"Preparing chai for batch #{i}\")\n",
    "\n",
    "order_list = ['sujay','sahana','divya','ronika']\n",
    "\n",
    "for name in order_list:\n",
    "    print(f\"Order for {name}\")\n",
    "\n",
    "#enumerate\n",
    "\n",
    "menu = [\"green\",\"lemon\",\"spiced\",\"mint\"]\n",
    "\n",
    "for idx,m in enumerate(menu):\n",
    "    print(f\"Menu item is: {idx + 1}. {m}\")\n",
    "\n",
    "#zip\n",
    "order_amount = [200,301,242,120]\n",
    "for name, amount in zip(order_list, order_amount):\n",
    "    print(f\"{name} paid {amount}\")\n",
    "\n",
    "# while in python\n",
    "temp = 40\n",
    "while temp < 100:\n",
    "    print(f\"temp: {temp}\")\n",
    "    temp= temp + 15\n",
    "\n",
    "#break, continue\n",
    "\n",
    "for m in menu:\n",
    "    if m == \"green\":\n",
    "        continue\n",
    "    elif m == \"lemon\":\n",
    "        break\n",
    "    print(f\"{m}\")\n",
    "\n",
    "#walrus\n",
    "\n"
   ]
  },
  {
   "cell_type": "code",
   "execution_count": 15,
   "id": "07d01cbf-786b-4dd1-a373-90877833a095",
   "metadata": {},
   "outputs": [
    {
     "name": "stdout",
     "output_type": "stream",
     "text": [
      "matcha for Ronika\n",
      "black tea for Rohith\n",
      "Ingredients(args): ('Cinnamon', 'cardmom')\n",
      "extras(kwargs): {'sweetner': 'Honey', 'foam': 'yes'}\n",
      "30\n",
      "puring chai:40\n",
      "puring chai:30\n",
      "puring chai:20\n",
      "puring chai:10\n",
      "all cups pured chai-left:0\n",
      "puring chai:10\n",
      "puring chai:20\n",
      "puring chai:30\n",
      "puring chai:40\n",
      "['strong', 'strong']\n"
     ]
    }
   ],
   "source": [
    "#functions\n",
    "def print_order(name, chai_type):\n",
    "    print(f\"{chai_type} for {name}\")\n",
    "\n",
    "print_order(\"Ronika\", \"matcha\")\n",
    "print_order(\"Rohith\", \"black tea\")\n",
    "\n",
    "#scope and named space in functions\n",
    "\n",
    "#local- inside a function\n",
    "# enclosing from outer function if nested\n",
    "# global - top level script\n",
    "\n",
    "def special_chai(*args, **kwargs):\n",
    "    print(f\"Ingredients(args): {args}\")\n",
    "    print(f\"extras(kwargs): {kwargs}\")\n",
    "\n",
    "special_chai('Cinnamon','cardmom', sweetner='Honey', foam='yes')\n",
    "\n",
    "# impure functions\n",
    "chai_cup = 10\n",
    "\n",
    "def impure_fn(cups):\n",
    "    global chai_cup \n",
    "    chai_cup += cups\n",
    "\n",
    "impure_fn(20);\n",
    "print(chai_cup)\n",
    "\n",
    "def pour_chai(n):\n",
    "    if n==0:\n",
    "        print(f\"all cups pured chai-left:{n}\")\n",
    "        return\n",
    "    print(f\"puring chai:{n}\")\n",
    "    pour_chai(n-10)\n",
    "    print(f\"puring chai:{n}\")\n",
    "\n",
    "pour_chai(40);\n",
    "\n",
    "#lambda\n",
    "\n",
    "chai_type = ['strong', 'medium', 'strong', 'light']\n",
    "\n",
    "order_type_of_chai = list(filter(lambda chai: chai == 'strong', chai_type))\n",
    "print(order_type_of_chai)"
   ]
  },
  {
   "cell_type": "code",
   "execution_count": 28,
   "id": "1ce632a3-742e-4aee-808c-64cbde1c36ad",
   "metadata": {},
   "outputs": [
    {
     "data": {
      "text/plain": [
       "{'40mins', '90mins', 'attack', 'defend', 'raid', 'tackle'}"
      ]
     },
     "execution_count": 28,
     "metadata": {},
     "output_type": "execute_result"
    }
   ],
   "source": [
    "#comprehensions\n",
    "menu = [\n",
    "    \"masala chai\",\n",
    "    \"iced lemon tea\",\n",
    "    \"green tea\",\n",
    "    \"iced peach tea\",\n",
    "    \"ginger chai\"\n",
    "]\n",
    "\n",
    "#list-comprehensions\n",
    "\n",
    "# [exp for item in iterable if condition]\n",
    "\n",
    "iced_tea = [tea for tea in menu if \"iced\" in tea]\n",
    "iced_tea\n",
    "squared = [x*2 for x in range(1,5)]\n",
    "squared\n",
    "\n",
    "#set-comprehensions\n",
    "\n",
    "val = [1,1,2,2,3,3,4,4]\n",
    "\n",
    "unique = {v for v in val}\n",
    "unique\n",
    "\n",
    "games = {\n",
    "    'kabaddi':['40mins','raid','defend','tackle'],\n",
    "    'football':['90mins','attack','defend','tackle']\n",
    "}\n",
    "\n",
    "unique_attr = {attr for sport in games.values() for attr in sport}\n",
    "unique_attr"
   ]
  },
  {
   "cell_type": "code",
   "execution_count": null,
   "id": "2bf9644c-a141-470d-8cad-dd0ab028fa45",
   "metadata": {},
   "outputs": [],
   "source": []
  }
 ],
 "metadata": {
  "kernelspec": {
   "display_name": "Python 3 (ipykernel)",
   "language": "python",
   "name": "python3"
  },
  "language_info": {
   "codemirror_mode": {
    "name": "ipython",
    "version": 3
   },
   "file_extension": ".py",
   "mimetype": "text/x-python",
   "name": "python",
   "nbconvert_exporter": "python",
   "pygments_lexer": "ipython3",
   "version": "3.12.5"
  }
 },
 "nbformat": 4,
 "nbformat_minor": 5
}
